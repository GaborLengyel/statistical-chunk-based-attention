{
 "cells": [
  {
   "cell_type": "code",
   "execution_count": 1,
   "metadata": {
    "ExecuteTime": {
     "end_time": "2020-10-24T08:47:51.415036Z",
     "start_time": "2020-10-24T08:47:50.489Z"
    }
   },
   "outputs": [
    {
     "name": "stderr",
     "output_type": "stream",
     "text": [
      "Loading required package: coda\n",
      "Loading required package: Matrix\n",
      "************\n",
      "Welcome to BayesFactor 0.9.12-4.2. If you have questions, please contact Richard Morey (richarddmorey@gmail.com).\n",
      "\n",
      "Type BFManual() to open the manual.\n",
      "************\n"
     ]
    }
   ],
   "source": [
    "library(BayesFactor)\n",
    "fprintf <- function(...) cat(sprintf(...))\n",
    "# parameters\n",
    "rscale = 0.707\n",
    "nullI = c(-0.1,0.1)\n",
    "filepath = filepath = './data/results'"
   ]
  },
  {
   "cell_type": "markdown",
   "metadata": {},
   "source": [
    "# Comparing mean RTs and error of object and shape:"
   ]
  },
  {
   "cell_type": "code",
   "execution_count": 2,
   "metadata": {
    "ExecuteTime": {
     "end_time": "2020-10-24T08:47:51.490207Z",
     "start_time": "2020-10-24T08:47:50.500Z"
    },
    "scrolled": true
   },
   "outputs": [
    {
     "data": {
      "text/plain": [
       "\n",
       "\tPaired t-test\n",
       "\n",
       "data:  data$V1 and data$V2\n",
       "t = -6.0199, df = 43, p-value = 3.421e-07\n",
       "alternative hypothesis: true difference in means is not equal to 0\n",
       "95 percent confidence interval:\n",
       " -0.08189541 -0.04079402\n",
       "sample estimates:\n",
       "mean of the differences \n",
       "            -0.06134472 \n"
      ]
     },
     "metadata": {},
     "output_type": "display_data"
    },
    {
     "data": {
      "text/plain": [
       "Bayes factor analysis\n",
       "--------------\n",
       "[1] Alt., r=0.707 : 45740.57 ±0%\n",
       "\n",
       "Against denominator:\n",
       "  Null, mu = 0 \n",
       "---\n",
       "Bayes factor type: BFoneSample, JZS\n"
      ]
     },
     "metadata": {},
     "output_type": "display_data"
    }
   ],
   "source": [
    "data = read.csv(paste(filepath, \"/RT_diff.csv\", sep=\"\"), header=FALSE, sep=\" \")\n",
    "t.test(data$V1,data$V2,paired=TRUE)\n",
    "ttestBF(x=data$V1,y=data$V2,r=rscale,paired=TRUE)"
   ]
  },
  {
   "cell_type": "code",
   "execution_count": 3,
   "metadata": {
    "ExecuteTime": {
     "end_time": "2020-10-24T08:47:51.518955Z",
     "start_time": "2020-10-24T08:47:50.505Z"
    }
   },
   "outputs": [
    {
     "data": {
      "text/plain": [
       "\n",
       "\tPaired t-test\n",
       "\n",
       "data:  data$V1 and data$V2\n",
       "t = -3.8372, df = 43, p-value = 0.0004027\n",
       "alternative hypothesis: true difference in means is not equal to 0\n",
       "95 percent confidence interval:\n",
       " -0.022939361 -0.007133941\n",
       "sample estimates:\n",
       "mean of the differences \n",
       "            -0.01503665 \n"
      ]
     },
     "metadata": {},
     "output_type": "display_data"
    },
    {
     "data": {
      "text/plain": [
       "Bayes factor analysis\n",
       "--------------\n",
       "[1] Alt., r=0.707 : 67.07641 ±0%\n",
       "\n",
       "Against denominator:\n",
       "  Null, mu = 0 \n",
       "---\n",
       "Bayes factor type: BFoneSample, JZS\n"
      ]
     },
     "metadata": {},
     "output_type": "display_data"
    }
   ],
   "source": [
    "data = read.csv(paste(filepath, \"/err_diff.csv\", sep=\"\"), header=FALSE, sep=\" \")\n",
    "t.test(data$V1,data$V2,paired=TRUE)\n",
    "ttestBF(x=data$V1,y=data$V2,r=rscale,paired=TRUE)"
   ]
  },
  {
   "cell_type": "markdown",
   "metadata": {},
   "source": [
    "# Chunk-based attention effect"
   ]
  },
  {
   "cell_type": "markdown",
   "metadata": {},
   "source": [
    "## RTs"
   ]
  },
  {
   "cell_type": "code",
   "execution_count": 4,
   "metadata": {
    "ExecuteTime": {
     "end_time": "2020-10-24T08:47:51.563739Z",
     "start_time": "2020-10-24T08:47:50.519Z"
    }
   },
   "outputs": [
    {
     "data": {
      "text/plain": [
       "\n",
       "\tPaired t-test\n",
       "\n",
       "data:  data$V1 and data$V2\n",
       "t = 2.5774, df = 89, p-value = 0.0116\n",
       "alternative hypothesis: true difference in means is not equal to 0\n",
       "95 percent confidence interval:\n",
       " 0.001870697 0.014461981\n",
       "sample estimates:\n",
       "mean of the differences \n",
       "            0.008166339 \n"
      ]
     },
     "metadata": {},
     "output_type": "display_data"
    },
    {
     "data": {
      "text/plain": [
       "Bayes factor analysis\n",
       "--------------\n",
       "[1] Alt., r=0.707 : 2.616761 ±0%\n",
       "\n",
       "Against denominator:\n",
       "  Null, mu = 0 \n",
       "---\n",
       "Bayes factor type: BFoneSample, JZS\n"
      ]
     },
     "metadata": {},
     "output_type": "display_data"
    },
    {
     "data": {
      "text/html": [
       "-0.271681040521453"
      ],
      "text/latex": [
       "-0.271681040521453"
      ],
      "text/markdown": [
       "-0.271681040521453"
      ],
      "text/plain": [
       "[1] -0.271681"
      ]
     },
     "metadata": {},
     "output_type": "display_data"
    }
   ],
   "source": [
    "data = read.csv(paste(filepath, \"/CBA_RT.csv\", sep=\"\"), header=FALSE, sep=\" \")\n",
    "t.test(data$V1,data$V2,paired=TRUE)\n",
    "ttestBF(x=data$V1,y=data$V2,r=rscale,paired=TRUE)\n",
    "(0-mean(data$V1-data$V2)) / sd(data$V1-data$V2)"
   ]
  },
  {
   "cell_type": "markdown",
   "metadata": {},
   "source": [
    "## RTs - Trial with two pairs only"
   ]
  },
  {
   "cell_type": "code",
   "execution_count": 5,
   "metadata": {
    "ExecuteTime": {
     "end_time": "2020-10-24T08:47:51.599758Z",
     "start_time": "2020-10-24T08:47:50.527Z"
    }
   },
   "outputs": [
    {
     "data": {
      "text/plain": [
       "\n",
       "\tPaired t-test\n",
       "\n",
       "data:  data$V1 and data$V2\n",
       "t = 2.574, df = 89, p-value = 0.01171\n",
       "alternative hypothesis: true difference in means is not equal to 0\n",
       "95 percent confidence interval:\n",
       " 0.002348356 0.018246466\n",
       "sample estimates:\n",
       "mean of the differences \n",
       "             0.01029741 \n"
      ]
     },
     "metadata": {},
     "output_type": "display_data"
    },
    {
     "data": {
      "text/plain": [
       "Bayes factor analysis\n",
       "--------------\n",
       "[1] Alt., r=0.707 : 2.596051 ±0%\n",
       "\n",
       "Against denominator:\n",
       "  Null, mu = 0 \n",
       "---\n",
       "Bayes factor type: BFoneSample, JZS\n"
      ]
     },
     "metadata": {},
     "output_type": "display_data"
    },
    {
     "data": {
      "text/html": [
       "-0.27132168541656"
      ],
      "text/latex": [
       "-0.27132168541656"
      ],
      "text/markdown": [
       "-0.27132168541656"
      ],
      "text/plain": [
       "[1] -0.2713217"
      ]
     },
     "metadata": {},
     "output_type": "display_data"
    }
   ],
   "source": [
    "data = read.csv(paste(filepath, \"/CBA_RT1.csv\", sep=\"\"), header=FALSE, sep=\" \")\n",
    "t.test(data$V1,data$V2,paired=TRUE)\n",
    "ttestBF(x=data$V1,y=data$V2,r=rscale,paired=TRUE)\n",
    "(0-mean(data$V1-data$V2)) / sd(data$V1-data$V2)"
   ]
  },
  {
   "cell_type": "markdown",
   "metadata": {},
   "source": [
    "## Error rates"
   ]
  },
  {
   "cell_type": "code",
   "execution_count": 6,
   "metadata": {
    "ExecuteTime": {
     "end_time": "2020-10-24T08:47:51.632020Z",
     "start_time": "2020-10-24T08:47:50.533Z"
    }
   },
   "outputs": [
    {
     "data": {
      "text/plain": [
       "\n",
       "\tPaired t-test\n",
       "\n",
       "data:  data$V1 and data$V2\n",
       "t = -0.42495, df = 89, p-value = 0.6719\n",
       "alternative hypothesis: true difference in means is not equal to 0\n",
       "95 percent confidence interval:\n",
       " -0.008956766  0.005800627\n",
       "sample estimates:\n",
       "mean of the differences \n",
       "            -0.00157807 \n"
      ]
     },
     "metadata": {},
     "output_type": "display_data"
    },
    {
     "data": {
      "text/plain": [
       "Bayes factor analysis\n",
       "--------------\n",
       "[1] Alt., r=0.707 : 0.1271316 ±0%\n",
       "\n",
       "Against denominator:\n",
       "  Null, mu = 0 \n",
       "---\n",
       "Bayes factor type: BFoneSample, JZS\n"
      ]
     },
     "metadata": {},
     "output_type": "display_data"
    }
   ],
   "source": [
    "data = read.csv(paste(filepath, \"/CBA_err.csv\", sep=\"\"), header=FALSE, sep=\" \")\n",
    "t.test(data$V1,data$V2,paired=TRUE)\n",
    "ttestBF(x=data$V1,y=data$V2,r=rscale,paired=TRUE)"
   ]
  },
  {
   "cell_type": "markdown",
   "metadata": {},
   "source": [
    "# Validity effect for chunks"
   ]
  },
  {
   "cell_type": "markdown",
   "metadata": {},
   "source": [
    "## RTs"
   ]
  },
  {
   "cell_type": "code",
   "execution_count": 7,
   "metadata": {
    "ExecuteTime": {
     "end_time": "2020-10-24T08:47:51.669676Z",
     "start_time": "2020-10-24T08:47:50.544Z"
    }
   },
   "outputs": [
    {
     "data": {
      "text/plain": [
       "\n",
       "\tPaired t-test\n",
       "\n",
       "data:  data$V1 and data$V2\n",
       "t = 11.349, df = 89, p-value < 2.2e-16\n",
       "alternative hypothesis: true difference in means is not equal to 0\n",
       "95 percent confidence interval:\n",
       " 0.06383295 0.09092741\n",
       "sample estimates:\n",
       "mean of the differences \n",
       "             0.07738018 \n"
      ]
     },
     "metadata": {},
     "output_type": "display_data"
    },
    {
     "data": {
      "text/plain": [
       "Bayes factor analysis\n",
       "--------------\n",
       "[1] Alt., r=0.707 : 9.680701e+15 ±0%\n",
       "\n",
       "Against denominator:\n",
       "  Null, mu = 0 \n",
       "---\n",
       "Bayes factor type: BFoneSample, JZS\n"
      ]
     },
     "metadata": {},
     "output_type": "display_data"
    }
   ],
   "source": [
    "data = read.csv(paste(filepath, \"/CBA_RT_v.csv\", sep=\"\"), header=FALSE, sep=\" \")\n",
    "t.test(data$V1,data$V2,paired=TRUE)\n",
    "ttestBF(x=data$V1,y=data$V2,r=rscale,paired=TRUE)"
   ]
  },
  {
   "cell_type": "markdown",
   "metadata": {},
   "source": [
    "## Errors"
   ]
  },
  {
   "cell_type": "code",
   "execution_count": 8,
   "metadata": {
    "ExecuteTime": {
     "end_time": "2020-10-24T08:47:51.711880Z",
     "start_time": "2020-10-24T08:47:50.551Z"
    }
   },
   "outputs": [
    {
     "data": {
      "text/plain": [
       "\n",
       "\tPaired t-test\n",
       "\n",
       "data:  data$V1 and data$V2\n",
       "t = 4.1119, df = 89, p-value = 8.723e-05\n",
       "alternative hypothesis: true difference in means is not equal to 0\n",
       "95 percent confidence interval:\n",
       " 0.005682399 0.016309259\n",
       "sample estimates:\n",
       "mean of the differences \n",
       "             0.01099583 \n"
      ]
     },
     "metadata": {},
     "output_type": "display_data"
    },
    {
     "data": {
      "text/plain": [
       "Bayes factor analysis\n",
       "--------------\n",
       "[1] Alt., r=0.707 : 216.6427 ±0%\n",
       "\n",
       "Against denominator:\n",
       "  Null, mu = 0 \n",
       "---\n",
       "Bayes factor type: BFoneSample, JZS\n"
      ]
     },
     "metadata": {},
     "output_type": "display_data"
    }
   ],
   "source": [
    "data = read.csv(paste(filepath, \"/CBA_err_v.csv\", sep=\"\"), header=FALSE, sep=\" \")\n",
    "t.test(data$V1,data$V2,paired=TRUE)\n",
    "ttestBF(x=data$V1,y=data$V2,r=rscale,paired=TRUE)"
   ]
  },
  {
   "cell_type": "markdown",
   "metadata": {},
   "source": [
    "# Object-based attention effect"
   ]
  },
  {
   "cell_type": "markdown",
   "metadata": {},
   "source": [
    "## RTs"
   ]
  },
  {
   "cell_type": "code",
   "execution_count": 9,
   "metadata": {
    "ExecuteTime": {
     "end_time": "2020-10-24T08:47:51.750805Z",
     "start_time": "2020-10-24T08:47:50.560Z"
    }
   },
   "outputs": [
    {
     "data": {
      "text/plain": [
       "\n",
       "\tPaired t-test\n",
       "\n",
       "data:  data$V1 and data$V2\n",
       "t = 6.6248, df = 43, p-value = 4.508e-08\n",
       "alternative hypothesis: true difference in means is not equal to 0\n",
       "95 percent confidence interval:\n",
       " 0.01802773 0.03380715\n",
       "sample estimates:\n",
       "mean of the differences \n",
       "             0.02591744 \n"
      ]
     },
     "metadata": {},
     "output_type": "display_data"
    },
    {
     "data": {
      "text/plain": [
       "Bayes factor analysis\n",
       "--------------\n",
       "[1] Alt., r=0.707 : 307510.8 ±0%\n",
       "\n",
       "Against denominator:\n",
       "  Null, mu = 0 \n",
       "---\n",
       "Bayes factor type: BFoneSample, JZS\n"
      ]
     },
     "metadata": {},
     "output_type": "display_data"
    }
   ],
   "source": [
    "data = read.csv(paste(filepath, \"/OBA_RT.csv\", sep=\"\"), header=FALSE, sep=\" \")\n",
    "t.test(data$V1,data$V2,paired=TRUE)\n",
    "ttestBF(x=data$V1,y=data$V2,r=rscale,paired=TRUE)"
   ]
  },
  {
   "cell_type": "markdown",
   "metadata": {},
   "source": [
    "## Errors"
   ]
  },
  {
   "cell_type": "code",
   "execution_count": 10,
   "metadata": {
    "ExecuteTime": {
     "end_time": "2020-10-24T08:47:51.787321Z",
     "start_time": "2020-10-24T08:47:50.568Z"
    }
   },
   "outputs": [
    {
     "data": {
      "text/plain": [
       "\n",
       "\tPaired t-test\n",
       "\n",
       "data:  data$V1 and data$V2\n",
       "t = -0.1616, df = 43, p-value = 0.8724\n",
       "alternative hypothesis: true difference in means is not equal to 0\n",
       "95 percent confidence interval:\n",
       " -0.009573435  0.008152980\n",
       "sample estimates:\n",
       "mean of the differences \n",
       "          -0.0007102273 \n"
      ]
     },
     "metadata": {},
     "output_type": "display_data"
    },
    {
     "data": {
      "text/plain": [
       "Bayes factor analysis\n",
       "--------------\n",
       "[1] Alt., r=0.707 : 0.1652993 ±0%\n",
       "\n",
       "Against denominator:\n",
       "  Null, mu = 0 \n",
       "---\n",
       "Bayes factor type: BFoneSample, JZS\n"
      ]
     },
     "metadata": {},
     "output_type": "display_data"
    }
   ],
   "source": [
    "data = read.csv(paste(filepath, \"/OBA_err.csv\", sep=\"\"), header=FALSE, sep=\" \")\n",
    "t.test(data$V1,data$V2,paired=TRUE)\n",
    "ttestBF(x=data$V1,y=data$V2,r=rscale,paired=TRUE)"
   ]
  },
  {
   "cell_type": "markdown",
   "metadata": {},
   "source": [
    "# Validity effect with objects"
   ]
  },
  {
   "cell_type": "markdown",
   "metadata": {},
   "source": [
    "## RTs"
   ]
  },
  {
   "cell_type": "code",
   "execution_count": 11,
   "metadata": {
    "ExecuteTime": {
     "end_time": "2020-10-24T08:47:51.826236Z",
     "start_time": "2020-10-24T08:47:50.578Z"
    }
   },
   "outputs": [
    {
     "data": {
      "text/plain": [
       "\n",
       "\tPaired t-test\n",
       "\n",
       "data:  data$V1 and data$V2\n",
       "t = 9.7774, df = 43, p-value = 1.702e-12\n",
       "alternative hypothesis: true difference in means is not equal to 0\n",
       "95 percent confidence interval:\n",
       " 0.06444319 0.09793560\n",
       "sample estimates:\n",
       "mean of the differences \n",
       "              0.0811894 \n"
      ]
     },
     "metadata": {},
     "output_type": "display_data"
    },
    {
     "data": {
      "text/plain": [
       "Bayes factor analysis\n",
       "--------------\n",
       "[1] Alt., r=0.707 : 4995428730 ±0%\n",
       "\n",
       "Against denominator:\n",
       "  Null, mu = 0 \n",
       "---\n",
       "Bayes factor type: BFoneSample, JZS\n"
      ]
     },
     "metadata": {},
     "output_type": "display_data"
    }
   ],
   "source": [
    "data = read.csv(paste(filepath, \"/OBA_RT_v.csv\", sep=\"\"), header=FALSE, sep=\" \")\n",
    "t.test(data$V1,data$V2,paired=TRUE)\n",
    "ttestBF(x=data$V1,y=data$V2,r=rscale,paired=TRUE)"
   ]
  },
  {
   "cell_type": "markdown",
   "metadata": {},
   "source": [
    "## Errors"
   ]
  },
  {
   "cell_type": "code",
   "execution_count": 12,
   "metadata": {
    "ExecuteTime": {
     "end_time": "2020-10-24T08:47:51.852735Z",
     "start_time": "2020-10-24T08:47:50.584Z"
    }
   },
   "outputs": [
    {
     "data": {
      "text/plain": [
       "\n",
       "\tPaired t-test\n",
       "\n",
       "data:  data$V1 and data$V2\n",
       "t = 2.4561, df = 43, p-value = 0.01816\n",
       "alternative hypothesis: true difference in means is not equal to 0\n",
       "95 percent confidence interval:\n",
       " 0.002122032 0.021599559\n",
       "sample estimates:\n",
       "mean of the differences \n",
       "              0.0118608 \n"
      ]
     },
     "metadata": {},
     "output_type": "display_data"
    },
    {
     "data": {
      "text/plain": [
       "Bayes factor analysis\n",
       "--------------\n",
       "[1] Alt., r=0.707 : 2.37325 ±0%\n",
       "\n",
       "Against denominator:\n",
       "  Null, mu = 0 \n",
       "---\n",
       "Bayes factor type: BFoneSample, JZS\n"
      ]
     },
     "metadata": {},
     "output_type": "display_data"
    }
   ],
   "source": [
    "data = read.csv(paste(filepath, \"/OBA_err_v.csv\", sep=\"\"), header=FALSE, sep=\" \")\n",
    "t.test(data$V1,data$V2,paired=TRUE)\n",
    "ttestBF(x=data$V1,y=data$V2,r=rscale,paired=TRUE)"
   ]
  },
  {
   "cell_type": "markdown",
   "metadata": {},
   "source": [
    "# Comparing validity effects with shapes and chunks"
   ]
  },
  {
   "cell_type": "code",
   "execution_count": 13,
   "metadata": {
    "ExecuteTime": {
     "end_time": "2020-10-24T08:47:51.900127Z",
     "start_time": "2020-10-24T08:47:50.590Z"
    }
   },
   "outputs": [
    {
     "data": {
      "text/plain": [
       "\n",
       "\tWelch Two Sample t-test\n",
       "\n",
       "data:  data$V1 and data$V2\n",
       "t = 0.81468, df = 85.986, p-value = 0.4175\n",
       "alternative hypothesis: true difference in means is not equal to 0\n",
       "95 percent confidence interval:\n",
       " -0.01369166  0.03270609\n",
       "sample estimates:\n",
       " mean of x  mean of y \n",
       "0.08118940 0.07168218 \n"
      ]
     },
     "metadata": {},
     "output_type": "display_data"
    },
    {
     "data": {
      "text/plain": [
       "Bayes factor analysis\n",
       "--------------\n",
       "[1] Alt., r=0.707 : 0.2983858 ±0.03%\n",
       "\n",
       "Against denominator:\n",
       "  Null, mu1-mu2 = 0 \n",
       "---\n",
       "Bayes factor type: BFindepSample, JZS\n"
      ]
     },
     "metadata": {},
     "output_type": "display_data"
    }
   ],
   "source": [
    "data = read.csv(paste(filepath, \"/OBA_CBA_diff_v_RT.csv\", sep=\"\"), header=FALSE, sep=\" \")\n",
    "t.test(data$V1,data$V2)\n",
    "ttestBF(x=data$V1,y=data$V2,r=rscale)"
   ]
  },
  {
   "cell_type": "code",
   "execution_count": 14,
   "metadata": {
    "ExecuteTime": {
     "end_time": "2020-10-24T08:47:51.926825Z",
     "start_time": "2020-10-24T08:47:50.592Z"
    }
   },
   "outputs": [
    {
     "data": {
      "text/plain": [
       "\n",
       "\tWelch Two Sample t-test\n",
       "\n",
       "data:  data$V1 and data$V2\n",
       "t = -0.48812, df = 86, p-value = 0.6267\n",
       "alternative hypothesis: true difference in means is not equal to 0\n",
       "95 percent confidence interval:\n",
       " -0.01690755  0.01024137\n",
       "sample estimates:\n",
       " mean of x  mean of y \n",
       "0.01186080 0.01519388 \n"
      ]
     },
     "metadata": {},
     "output_type": "display_data"
    },
    {
     "data": {
      "text/plain": [
       "Bayes factor analysis\n",
       "--------------\n",
       "[1] Alt., r=0.707 : 0.247592 ±0.03%\n",
       "\n",
       "Against denominator:\n",
       "  Null, mu1-mu2 = 0 \n",
       "---\n",
       "Bayes factor type: BFindepSample, JZS\n"
      ]
     },
     "metadata": {},
     "output_type": "display_data"
    }
   ],
   "source": [
    "data = read.csv(paste(filepath, \"/OBA_CBA_diff_v_err.csv\", sep=\"\"), header=FALSE, sep=\" \")\n",
    "t.test(data$V1,data$V2)\n",
    "ttestBF(x=data$V1,y=data$V2,r=rscale)"
   ]
  },
  {
   "cell_type": "markdown",
   "metadata": {},
   "source": [
    "# Comparing CBA and OBA effects"
   ]
  },
  {
   "cell_type": "code",
   "execution_count": 15,
   "metadata": {
    "ExecuteTime": {
     "end_time": "2020-10-24T08:47:51.959669Z",
     "start_time": "2020-10-24T08:47:50.598Z"
    }
   },
   "outputs": [
    {
     "data": {
      "text/plain": [
       "\n",
       "\tPaired t-test\n",
       "\n",
       "data:  data$V1 and data$V2\n",
       "t = 3.8445, df = 43, p-value = 0.0003939\n",
       "alternative hypothesis: true difference in means is not equal to 0\n",
       "95 percent confidence interval:\n",
       " 0.008946443 0.028688307\n",
       "sample estimates:\n",
       "mean of the differences \n",
       "             0.01881737 \n"
      ]
     },
     "metadata": {},
     "output_type": "display_data"
    },
    {
     "data": {
      "text/plain": [
       "Bayes factor analysis\n",
       "--------------\n",
       "[1] Alt., r=0.707 : 68.42701 ±0%\n",
       "\n",
       "Against denominator:\n",
       "  Null, mu = 0 \n",
       "---\n",
       "Bayes factor type: BFoneSample, JZS\n"
      ]
     },
     "metadata": {},
     "output_type": "display_data"
    }
   ],
   "source": [
    "data = read.csv(paste(filepath, \"/OBA_CBA_diff_RT.csv\", sep=\"\"), header=FALSE, sep=\" \")\n",
    "t.test(data$V1,data$V2,paired=TRUE)\n",
    "ttestBF(x=data$V1,y=data$V2,r=rscale,paired=TRUE)"
   ]
  },
  {
   "cell_type": "code",
   "execution_count": 16,
   "metadata": {
    "ExecuteTime": {
     "end_time": "2020-10-24T08:47:51.999888Z",
     "start_time": "2020-10-24T08:47:50.600Z"
    }
   },
   "outputs": [
    {
     "data": {
      "text/plain": [
       "\n",
       "\tPaired t-test\n",
       "\n",
       "data:  data$V1 and data$V2\n",
       "t = 0.042969, df = 43, p-value = 0.9659\n",
       "alternative hypothesis: true difference in means is not equal to 0\n",
       "95 percent confidence interval:\n",
       " -0.01414956  0.01476566\n",
       "sample estimates:\n",
       "mean of the differences \n",
       "           0.0003080465 \n"
      ]
     },
     "metadata": {},
     "output_type": "display_data"
    },
    {
     "data": {
      "text/plain": [
       "Bayes factor analysis\n",
       "--------------\n",
       "[1] Alt., r=0.707 : 0.1634126 ±0%\n",
       "\n",
       "Against denominator:\n",
       "  Null, mu = 0 \n",
       "---\n",
       "Bayes factor type: BFoneSample, JZS\n"
      ]
     },
     "metadata": {},
     "output_type": "display_data"
    }
   ],
   "source": [
    "data = read.csv(paste(filepath, \"/OBA_CBA_diff_err.csv\", sep=\"\"), header=FALSE, sep=\" \")\n",
    "t.test(data$V1,data$V2,paired=TRUE)\n",
    "ttestBF(x=data$V1,y=data$V2,r=rscale,paired=TRUE)"
   ]
  },
  {
   "cell_type": "markdown",
   "metadata": {},
   "source": [
    "# Familiarity test"
   ]
  },
  {
   "cell_type": "code",
   "execution_count": 17,
   "metadata": {
    "ExecuteTime": {
     "end_time": "2020-10-24T08:47:52.040851Z",
     "start_time": "2020-10-24T08:47:50.606Z"
    }
   },
   "outputs": [
    {
     "data": {
      "text/plain": [
       "\n",
       "\tOne Sample t-test\n",
       "\n",
       "data:  data$V1\n",
       "t = 6.4632, df = 89, p-value = 5.334e-09\n",
       "alternative hypothesis: true mean is not equal to 0.5\n",
       "95 percent confidence interval:\n",
       " 0.5793569 0.6498097\n",
       "sample estimates:\n",
       "mean of x \n",
       "0.6145833 \n"
      ]
     },
     "metadata": {},
     "output_type": "display_data"
    },
    {
     "data": {
      "text/plain": [
       "Bayes factor analysis\n",
       "--------------\n",
       "[1] Alt., r=0.707 : 2065952 ±0%\n",
       "\n",
       "Against denominator:\n",
       "  Null, mu = 0.5 \n",
       "---\n",
       "Bayes factor type: BFoneSample, JZS\n"
      ]
     },
     "metadata": {},
     "output_type": "display_data"
    }
   ],
   "source": [
    "data = read.csv(paste(filepath, \"/fam_CBA.csv\", sep=\"\"), header=FALSE, sep=\" \")\n",
    "t.test(data$V1, mu=0.5)\n",
    "ttestBF(data$V1, mu=0.5,r=rscale)"
   ]
  },
  {
   "cell_type": "markdown",
   "metadata": {},
   "source": [
    "# Correlation between familiarity and CBA effect"
   ]
  },
  {
   "cell_type": "code",
   "execution_count": 18,
   "metadata": {
    "ExecuteTime": {
     "end_time": "2020-10-24T08:47:52.981727Z",
     "start_time": "2020-10-24T08:47:50.612Z"
    }
   },
   "outputs": [
    {
     "data": {
      "text/plain": [
       "Bayes factor analysis\n",
       "--------------\n",
       "[1] Alt., r=0.333 : 2833.363 ±0%\n",
       "\n",
       "Against denominator:\n",
       "  Null, rho = 0 \n",
       "---\n",
       "Bayes factor type: BFcorrelation, Jeffreys-beta*\n"
      ]
     },
     "metadata": {},
     "output_type": "display_data"
    },
    {
     "name": "stderr",
     "output_type": "stream",
     "text": [
      "Independent-candidate M-H acceptance rate: 83%\n"
     ]
    },
    {
     "data": {
      "text/html": [
       "0,42308746909679"
      ],
      "text/latex": [
       "0,42308746909679"
      ],
      "text/markdown": [
       "0,42308746909679"
      ],
      "text/plain": [
       "[1] 0,4230875"
      ]
     },
     "metadata": {},
     "output_type": "display_data"
    },
    {
     "data": {
      "image/png": "[encoded data removed]",
      "text/plain": [
       "Plot with title “Density of var1”"
      ]
     },
     "metadata": {},
     "output_type": "display_data"
    }
   ],
   "source": [
    "data = read.csv(paste(filepath, \"/fam_CBA.csv\", sep=\"\"), header=FALSE, sep=\" \")\n",
    "correlationBF(y = data$V1, x =  data$V2)\n",
    "samples = correlationBF(y = data$V1, x =  data$V2,\n",
    "          posterior = TRUE, iterations = 10000)\n",
    "plot(samples[,\"rho\"])\n",
    "mean(samples[,\"rho\"])"
   ]
  },
  {
   "cell_type": "markdown",
   "metadata": {
    "ExecuteTime": {
     "end_time": "2019-10-08T12:35:25.694563Z",
     "start_time": "2019-10-08T12:35:25.677Z"
    }
   },
   "source": [
    "# Within-subject consistency"
   ]
  },
  {
   "cell_type": "code",
   "execution_count": 19,
   "metadata": {
    "ExecuteTime": {
     "end_time": "2020-10-24T08:47:53.011675Z",
     "start_time": "2020-10-24T08:47:50.619Z"
    }
   },
   "outputs": [
    {
     "data": {
      "text/plain": [
       "\n",
       "\tOne Sample t-test\n",
       "\n",
       "data:  data$V1\n",
       "t = 4,5338, df = 89, p-value = 1,798e-05\n",
       "alternative hypothesis: true mean is not equal to 0\n",
       "95 percent confidence interval:\n",
       " 0,1525566 0,3905966\n",
       "sample estimates:\n",
       "mean of x \n",
       "0,2715766 \n"
      ]
     },
     "metadata": {},
     "output_type": "display_data"
    },
    {
     "data": {
      "text/plain": [
       "Bayes factor analysis\n",
       "--------------\n",
       "[1] Alt., r=0,707 : 941,2286 ±0%\n",
       "\n",
       "Against denominator:\n",
       "  Null, mu = 0 \n",
       "---\n",
       "Bayes factor type: BFoneSample, JZS\n"
      ]
     },
     "metadata": {},
     "output_type": "display_data"
    }
   ],
   "source": [
    "data = read.csv(paste(filepath, \"/consistency.csv\", sep=\"\"), header=FALSE, sep=\" \")\n",
    "t.test(data$V1)\n",
    "ttestBF(data$V1, mu=0, r=rscale)"
   ]
  },
  {
   "cell_type": "markdown",
   "metadata": {},
   "source": [
    "# Correlations between chunk and objects effects"
   ]
  },
  {
   "cell_type": "markdown",
   "metadata": {},
   "source": [
    "## Chunk and object-based effect"
   ]
  },
  {
   "cell_type": "code",
   "execution_count": 20,
   "metadata": {
    "ExecuteTime": {
     "end_time": "2020-10-24T08:47:54.070040Z",
     "start_time": "2020-10-24T08:47:50.629Z"
    }
   },
   "outputs": [
    {
     "data": {
      "text/plain": [
       "Bayes factor analysis\n",
       "--------------\n",
       "[1] Alt., r=0,333 : 3,025114 ±0%\n",
       "\n",
       "Against denominator:\n",
       "  Null, rho = 0 \n",
       "---\n",
       "Bayes factor type: BFcorrelation, Jeffreys-beta*\n"
      ]
     },
     "metadata": {},
     "output_type": "display_data"
    },
    {
     "name": "stderr",
     "output_type": "stream",
     "text": [
      "Independent-candidate M-H acceptance rate: 83%\n"
     ]
    },
    {
     "data": {
      "text/html": [
       "0,286593351946148"
      ],
      "text/latex": [
       "0,286593351946148"
      ],
      "text/markdown": [
       "0,286593351946148"
      ],
      "text/plain": [
       "[1] 0,2865934"
      ]
     },
     "metadata": {},
     "output_type": "display_data"
    },
    {
     "data": {
      "image/png": "[encoded data removed]",
      "text/plain": [
       "Plot with title “Density of var1”"
      ]
     },
     "metadata": {},
     "output_type": "display_data"
    }
   ],
   "source": [
    "data = read.csv(paste(filepath, \"/OBA_CBA_corr_object.csv\", sep=\"\"), header=FALSE, sep=\" \")\n",
    "correlationBF(y = data$V1, x =  data$V2)\n",
    "samples = correlationBF(y = data$V1, x =  data$V2,\n",
    "          posterior = TRUE, iterations = 10000)\n",
    "plot(samples[,\"rho\"])\n",
    "mean(samples[,\"rho\"])"
   ]
  },
  {
   "cell_type": "markdown",
   "metadata": {},
   "source": [
    "## Validity effects with objects and chunks"
   ]
  },
  {
   "cell_type": "code",
   "execution_count": 21,
   "metadata": {
    "ExecuteTime": {
     "end_time": "2020-10-24T08:47:54.793685Z",
     "start_time": "2020-10-24T08:47:50.635Z"
    }
   },
   "outputs": [
    {
     "data": {
      "text/plain": [
       "Bayes factor analysis\n",
       "--------------\n",
       "[1] Alt., r=0,333 : 3498,561 ±0%\n",
       "\n",
       "Against denominator:\n",
       "  Null, rho = 0 \n",
       "---\n",
       "Bayes factor type: BFcorrelation, Jeffreys-beta*\n"
      ]
     },
     "metadata": {},
     "output_type": "display_data"
    },
    {
     "name": "stderr",
     "output_type": "stream",
     "text": [
      "Independent-candidate M-H acceptance rate: 67%\n"
     ]
    },
    {
     "data": {
      "text/html": [
       "0,56195279757028"
      ],
      "text/latex": [
       "0,56195279757028"
      ],
      "text/markdown": [
       "0,56195279757028"
      ],
      "text/plain": [
       "[1] 0,5619528"
      ]
     },
     "metadata": {},
     "output_type": "display_data"
    },
    {
     "data": {
      "image/png": "[encoded data removed]",
      "text/plain": [
       "Plot with title “Density of var1”"
      ]
     },
     "metadata": {},
     "output_type": "display_data"
    }
   ],
   "source": [
    "data = read.csv(paste(filepath, \"/OBA_CBA_corr_validity.csv\", sep=\"\"), header=FALSE, sep=\" \")\n",
    "correlationBF(y = data$V1, x =  data$V2)\n",
    "samples = correlationBF(y = data$V1, x =  data$V2,\n",
    "          posterior = TRUE, iterations = 10000)\n",
    "plot(samples[,\"rho\"])\n",
    "mean(samples[,\"rho\"])"
   ]
  },
  {
   "cell_type": "code",
   "execution_count": null,
   "metadata": {},
   "outputs": [],
   "source": []
  }
 ],
 "metadata": {
  "hide_input": false,
  "kernelspec": {
   "display_name": "R",
   "language": "R",
   "name": "ir"
  },
  "language_info": {
   "codemirror_mode": "r",
   "file_extension": ".r",
   "mimetype": "text/x-r-source",
   "name": "R",
   "pygments_lexer": "r",
   "version": "3.5.1"
  },
  "latex_envs": {
   "LaTeX_envs_menu_present": true,
   "autoclose": false,
   "autocomplete": true,
   "bibliofile": "biblio.bib",
   "cite_by": "apalike",
   "current_citInitial": 1,
   "eqLabelWithNumbers": true,
   "eqNumInitial": 1,
   "hotkeys": {
    "equation": "Ctrl-E",
    "itemize": "Ctrl-I"
   },
   "labels_anchors": false,
   "latex_user_defs": false,
   "report_style_numbering": false,
   "user_envs_cfg": false
  },
  "toc": {
   "base_numbering": 1,
   "nav_menu": {},
   "number_sections": true,
   "sideBar": true,
   "skip_h1_title": false,
   "title_cell": "Table of Contents",
   "title_sidebar": "Contents",
   "toc_cell": false,
   "toc_position": {},
   "toc_section_display": true,
   "toc_window_display": false
  },
  "varInspector": {
   "cols": {
    "lenName": 16,
    "lenType": 16,
    "lenVar": 40
   },
   "kernels_config": {
    "python": {
     "delete_cmd_postfix": "",
     "delete_cmd_prefix": "del ",
     "library": "var_list.py",
     "varRefreshCmd": "print(var_dic_list())"
    },
    "r": {
     "delete_cmd_postfix": ") ",
     "delete_cmd_prefix": "rm(",
     "library": "var_list.r",
     "varRefreshCmd": "cat(var_dic_list()) "
    }
   },
   "types_to_exclude": [
    "module",
    "function",
    "builtin_function_or_method",
    "instance",
    "_Feature"
   ],
   "window_display": false
  }
 },
 "nbformat": 4,
 "nbformat_minor": 2
}
